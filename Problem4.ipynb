{
 "cells": [
  {
   "cell_type": "code",
   "execution_count": null,
   "metadata": {},
   "outputs": [],
   "source": [
    "import numpy as np\n",
    "import pandas as pd\n",
    "import matplotlib.pyplot as plt"
   ]
  },
  {
   "cell_type": "code",
   "execution_count": null,
   "metadata": {},
   "outputs": [],
   "source": [
    "def findWinningUnit(x,W):\n",
    "    min_d = 200\n",
    "    min_i = 0\n",
    "    min_j = 0\n",
    "    for i in range(100):\n",
    "        for j in range(100):\n",
    "            d = np.linalg.norm(x-np.array(W[i,j]))\n",
    "            if d < min_d:\n",
    "                min_i = i\n",
    "                min_j = j\n",
    "                min_d = d\n",
    "    return min_i,min_j"
   ]
  },
  {
   "cell_type": "code",
   "execution_count": null,
   "metadata": {},
   "outputs": [],
   "source": [
    "def getNewWeights(W,k,T,a0,s0,iw,jw,x):\n",
    "    Wnext = np.copy(W)\n",
    "    ak = a0*np.exp(-k/T)\n",
    "    sk = s0*np.exp(-k/T)\n",
    "    D = np.zeros((100,100))\n",
    "    for i in range(100):\n",
    "        for j in range(100):\n",
    "            d = np.array([i-iw,j-jw])\n",
    "            dij = np.linalg.norm(d)\n",
    "            D[i,j] = dij\n",
    "    H = np.exp(-np.exp2(D)/(2*sk**2))\n",
    "    # W[i][j] += ak*hij*(x-W[i][j])\n",
    "    Wnext[:,:,0] = W[:,:,0] + ak*np.multiply(H,(x[0]-W[:,:,0]))\n",
    "    Wnext[:,:,1] = W[:,:,1] + ak*np.multiply(H,(x[1]-W[:,:,1]))\n",
    "    Wnext[:,:,2] = W[:,:,2] + ak*np.multiply(H,(x[2]-W[:,:,2]))\n",
    "    return Wnext"
   ]
  },
  {
   "cell_type": "code",
   "execution_count": null,
   "metadata": {},
   "outputs": [],
   "source": [
    "# Input size: 3 (R,G,B values ranging 0~1)\n",
    "# Output size: 100x100\n",
    "# Sample size: 24\n",
    "# Epochs: 1000\n",
    "T = 1000\n",
    "a0 = 0.8\n",
    "sigmas = [1,10,30,50,70]\n",
    "W = np.random.rand(100,100,3)\n",
    "df = pd.read_csv('colors.csv',sep=',')\n",
    "X = df.to_numpy()\n",
    "X = np.divide(X,255)\n",
    "epochs = [20,40,100,1000]\n",
    "\n",
    "X.shape"
   ]
  },
  {
   "cell_type": "code",
   "execution_count": null,
   "metadata": {},
   "outputs": [],
   "source": [
    "plt.grid(False)\n",
    "plt.axis('off')\n",
    "plt.imshow(W)\n",
    "plt.show()\n",
    "fig,axs = plt.subplots(1,4)\n",
    "fig.set_size_inches(10,2.5)\n",
    "\n",
    "s0 = sigmas[4]\n",
    "Wk = np.copy(W)\n",
    "for k in range(1,T+1):\n",
    "    for s in range(24):\n",
    "        i,j = findWinningUnit(X[s],W)\n",
    "        Wk = getNewWeights(Wk,k,T,a0,s0,i,j,X[s])\n",
    "    if k in epochs:\n",
    "        axs[epochs.index(k)].imshow(Wk)\n",
    "plt.grid(False)\n",
    "plt.axis('off')\n",
    "plt.show()"
   ]
  }
 ],
 "metadata": {
  "kernelspec": {
   "display_name": "Python 3",
   "language": "python",
   "name": "python3"
  },
  "language_info": {
   "codemirror_mode": {
    "name": "ipython",
    "version": 3
   },
   "file_extension": ".py",
   "mimetype": "text/x-python",
   "name": "python",
   "nbconvert_exporter": "python",
   "pygments_lexer": "ipython3",
   "version": "3.11.2"
  },
  "orig_nbformat": 4
 },
 "nbformat": 4,
 "nbformat_minor": 2
}
