{
 "cells": [
  {
   "attachments": {},
   "cell_type": "markdown",
   "metadata": {},
   "source": [
    "# Problem 3: RBF network"
   ]
  },
  {
   "attachments": {},
   "cell_type": "markdown",
   "metadata": {},
   "source": [
    "Firstly, let's import the existing libraries"
   ]
  },
  {
   "cell_type": "code",
   "execution_count": 1,
   "metadata": {},
   "outputs": [],
   "source": [
    "import numpy as np\n",
    "import matplotlib.pyplot as plt\n",
    "from sklearn.cluster import KMeans\n",
    "from sklearn.model_selection import train_test_split\n",
    "from utils.data_parser import data_split_train_test, prepare_datasource\n",
    "from utils.utilities import compute_cost, compute_accuracy #bring these utilities helpers from A1\n"
   ]
  },
  {
   "attachments": {},
   "cell_type": "markdown",
   "metadata": {},
   "source": [
    "Then, split out the datasource into training and test data with the ratio of 8:2"
   ]
  },
  {
   "cell_type": "code",
   "execution_count": 2,
   "metadata": {},
   "outputs": [
    {
     "name": "stdout",
     "output_type": "stream",
     "text": [
      "Enter here\n"
     ]
    }
   ],
   "source": [
    "X, y = prepare_datasource()\n",
    "X_train, X_test, y_train, y_test = train_test_split(X,y, test_size=0.2, shuffle=False)"
   ]
  },
  {
   "attachments": {},
   "cell_type": "markdown",
   "metadata": {},
   "source": [
    "The spread parameters are preset as follow"
   ]
  },
  {
   "cell_type": "code",
   "execution_count": 3,
   "metadata": {},
   "outputs": [],
   "source": [
    "radius_values = [0.05 ,0.1, 1., 2., 5., 10., 20., 30., 40., 50., 60., 70., 80., 90., 100., 120.]"
   ]
  },
  {
   "attachments": {},
   "cell_type": "markdown",
   "metadata": {},
   "source": [
    "Firstly, let's compute the gaussian matrix $$g_j=gaussian(d_j)=e^{\\frac{-{d_j}^2}{2\\sigma^2}}$$ where \n",
    "$d_j = ||X-c_j||$ and $c_j$ is each element in centers"
   ]
  },
  {
   "cell_type": "code",
   "execution_count": 4,
   "metadata": {},
   "outputs": [],
   "source": [
    "def compute_gaussian_matrix(X, centers, width):\n",
    "    gj = np.zeros((centers.shape[0], X.shape[0]))\n",
    "    for c_idx,cj in enumerate(centers):\n",
    "        for  input_idx,input in enumerate(X):\n",
    "            dj = np.linalg.norm(input-cj)\n",
    "            yj = np.exp(-dj**2/(2*(width**2)))\n",
    "            gj[c_idx, input_idx] = yj\n",
    "    return gj"
   ]
  },
  {
   "attachments": {},
   "cell_type": "markdown",
   "metadata": {},
   "source": [
    "Next, $g_j$ is fed into the linear regression model with proper weights to compute the output $$Y=\\sum_{j=1}^n{w_jg_j}$$"
   ]
  },
  {
   "cell_type": "code",
   "execution_count": 5,
   "metadata": {},
   "outputs": [],
   "source": [
    "def compute_output(X, weights, centers, width):\n",
    "    G = compute_gaussian_matrix(X, centers, width)\n",
    "    Y = np.matmul(weights, G)\n",
    "    return Y"
   ]
  },
  {
   "attachments": {},
   "cell_type": "markdown",
   "metadata": {},
   "source": [
    "We now compute the weight matrix using gaussian matrix $G$ and the targets $Y$ by the formula:\n",
    "\n",
    "$$W = G^{+}Y$$\n",
    "where $G^{+}$ is the pseudo-inverse matrix of G"
   ]
  },
  {
   "cell_type": "code",
   "execution_count": 6,
   "metadata": {},
   "outputs": [],
   "source": [
    "def compute_weight(X, Y, centers, width):\n",
    "    G = compute_gaussian_matrix(X, centers, width)\n",
    "    W = np.matmul(Y, np.linalg.pinv(G))\n",
    "    return W"
   ]
  },
  {
   "attachments": {},
   "cell_type": "markdown",
   "metadata": {},
   "source": [
    "## Part 1\n",
    "Carry out the design of RBF NN based on Gaussian kernel functions with constant spread function and using all\n",
    "the points in the training set as centers of the RB functions. Compare the performance results (mean square\n",
    "error) as you vary the spread parameter while keeping it the same for all kernel functions. Discuss your findings."
   ]
  },
  {
   "cell_type": "code",
   "execution_count": 7,
   "metadata": {},
   "outputs": [
    {
     "name": "stdout",
     "output_type": "stream",
     "text": [
      "radius = 0.05   cost = 0.1797752808988764 testing accuracy = 95.50561797752809\n",
      "radius = 0.1   cost = 0.1797752808988764 testing accuracy = 95.50561797752809\n",
      "radius = 1.0   cost = 0.2696629213483146 testing accuracy = 93.25842696629213\n",
      "radius = 2.0   cost = 0.1797752808988764 testing accuracy = 95.50561797752809\n",
      "radius = 5.0   cost = 0.1797752808988764 testing accuracy = 95.50561797752809\n",
      "radius = 10.0   cost = 0.1797752808988764 testing accuracy = 95.50561797752809\n",
      "radius = 20.0   cost = 0.0898876404494382 testing accuracy = 97.75280898876404\n",
      "radius = 30.0   cost = 0.1348314606741573 testing accuracy = 96.62921348314607\n",
      "radius = 40.0   cost = 0.1348314606741573 testing accuracy = 96.62921348314607\n",
      "radius = 50.0   cost = 0.1797752808988764 testing accuracy = 95.50561797752809\n",
      "radius = 60.0   cost = 0.1797752808988764 testing accuracy = 95.50561797752809\n",
      "radius = 70.0   cost = 0.3146067415730337 testing accuracy = 92.13483146067416\n",
      "radius = 80.0   cost = 0.7640449438202247 testing accuracy = 80.89887640449437\n",
      "radius = 90.0   cost = 0.7640449438202247 testing accuracy = 80.89887640449437\n",
      "radius = 100.0   cost = 0.7640449438202247 testing accuracy = 80.89887640449437\n",
      "radius = 120.0   cost = 0.7640449438202247 testing accuracy = 80.89887640449437\n",
      "radius = 150.0   cost = 0.7640449438202247 testing accuracy = 80.89887640449437\n",
      "radius = 200.0   cost = 0.7640449438202247 testing accuracy = 80.89887640449437\n"
     ]
    }
   ],
   "source": [
    "for radius in radius_values:\n",
    "    W = compute_weight(X_train, y_train, X_train, radius)\n",
    "    y_test_hat = compute_output(X_test, W, X_train, radius)\n",
    "    y_test_pred = np.sign(y_test_hat)\n",
    "    # y_train_hat = compute_output(X_train, W, X_train, radius)\n",
    "    # y_train_pred = np.sign(y_train_hat)\n",
    "    print(f\"radius = {radius}   cost = {compute_cost(y_test_pred, y_test)} testing accuracy = {compute_accuracy(y_test_pred, y_test) * 100}\")"
   ]
  },
  {
   "attachments": {},
   "cell_type": "markdown",
   "metadata": {},
   "source": [
    "## Part 2\n",
    "Perform the design of the RBF NN, using this time only 150 centers, choosing the centers using two approaches:\n",
    "\n",
    "a) Randomly select the centers from the input data.\n",
    "b) Use K-Means algorithm to find the centers. You can use a Kmeans function defined in sklearn (https://scikitlearn.\n",
    "org/stable/modules/generated/sklearn.cluster.KMeans.html) or create your own."
   ]
  },
  {
   "attachments": {},
   "cell_type": "markdown",
   "metadata": {},
   "source": [
    "## 2.a. Randomly pick 150 centers "
   ]
  },
  {
   "cell_type": "code",
   "execution_count": 8,
   "metadata": {},
   "outputs": [],
   "source": [
    "selected_centers_indices = np.random.choice(X_train.shape[0], size=150, replace=False)\n",
    "selected_centers = X_train[selected_centers_indices, :]\n"
   ]
  },
  {
   "attachments": {},
   "cell_type": "markdown",
   "metadata": {},
   "source": [
    "Then, run the whole thing again given the above centers:"
   ]
  },
  {
   "cell_type": "code",
   "execution_count": 9,
   "metadata": {},
   "outputs": [
    {
     "name": "stdout",
     "output_type": "stream",
     "text": [
      "radius = 0.05   cost = 0.1348314606741573   accuracy = 96.62921348314607\n",
      "radius = 0.1   cost = 0.1348314606741573   accuracy = 96.62921348314607\n",
      "radius = 1.0   cost = 0.1348314606741573   accuracy = 96.62921348314607\n",
      "radius = 2.0   cost = 0.1797752808988764   accuracy = 95.50561797752809\n",
      "radius = 5.0   cost = 0.1797752808988764   accuracy = 95.50561797752809\n",
      "radius = 10.0   cost = 0.1797752808988764   accuracy = 95.50561797752809\n",
      "radius = 20.0   cost = 0.1348314606741573   accuracy = 96.62921348314607\n",
      "radius = 30.0   cost = 0.1348314606741573   accuracy = 96.62921348314607\n",
      "radius = 40.0   cost = 0.1348314606741573   accuracy = 96.62921348314607\n",
      "radius = 50.0   cost = 0.0898876404494382   accuracy = 97.75280898876404\n",
      "radius = 60.0   cost = 0.1797752808988764   accuracy = 95.50561797752809\n",
      "radius = 70.0   cost = 0.3146067415730337   accuracy = 92.13483146067416\n",
      "radius = 80.0   cost = 0.7640449438202247   accuracy = 80.89887640449437\n",
      "radius = 90.0   cost = 0.7640449438202247   accuracy = 80.89887640449437\n",
      "radius = 100.0   cost = 0.7640449438202247   accuracy = 80.89887640449437\n",
      "radius = 120.0   cost = 0.7640449438202247   accuracy = 80.89887640449437\n",
      "radius = 150.0   cost = 0.7640449438202247   accuracy = 80.89887640449437\n",
      "radius = 200.0   cost = 0.7640449438202247   accuracy = 80.89887640449437\n"
     ]
    }
   ],
   "source": [
    "for radius in radius_values:\n",
    "    W = compute_weight(X_train, y_train, selected_centers, radius)\n",
    "    y_hat = compute_output(X_test, W, selected_centers, radius)\n",
    "    y_pred = np.sign(y_hat)\n",
    "    print(f\"radius = {radius}   cost = {compute_cost(y_pred, y_test)}   testing accuracy = {compute_accuracy(y_pred, y_test) * 100}\")"
   ]
  },
  {
   "attachments": {},
   "cell_type": "markdown",
   "metadata": {},
   "source": [
    "## 2.b. Use K-Means algorithm for selecting 150 centers "
   ]
  },
  {
   "cell_type": "code",
   "execution_count": 10,
   "metadata": {},
   "outputs": [
    {
     "name": "stderr",
     "output_type": "stream",
     "text": [
      "/opt/homebrew/lib/python3.11/site-packages/sklearn/cluster/_kmeans.py:870: FutureWarning: The default value of `n_init` will change from 10 to 'auto' in 1.4. Set the value of `n_init` explicitly to suppress the warning\n",
      "  warnings.warn(\n"
     ]
    }
   ],
   "source": [
    "kmeans = KMeans(n_clusters=150)\n",
    "kmeans.fit(X_train)\n",
    "kmean_centers = kmeans.cluster_centers_"
   ]
  },
  {
   "attachments": {},
   "cell_type": "markdown",
   "metadata": {},
   "source": [
    "Finally, execute the program with the centers given by KMeans clusters"
   ]
  },
  {
   "cell_type": "code",
   "execution_count": 11,
   "metadata": {},
   "outputs": [
    {
     "name": "stdout",
     "output_type": "stream",
     "text": [
      "radius = 0.05   cost = 0.1797752808988764   accuracy = 95.50561797752809\n",
      "radius = 0.1   cost = 0.1797752808988764   accuracy = 95.50561797752809\n",
      "radius = 1.0   cost = 0.1348314606741573   accuracy = 96.62921348314607\n",
      "radius = 2.0   cost = 0.1797752808988764   accuracy = 95.50561797752809\n",
      "radius = 5.0   cost = 0.1797752808988764   accuracy = 95.50561797752809\n",
      "radius = 10.0   cost = 0.1797752808988764   accuracy = 95.50561797752809\n",
      "radius = 20.0   cost = 0.1348314606741573   accuracy = 96.62921348314607\n",
      "radius = 30.0   cost = 0.1348314606741573   accuracy = 96.62921348314607\n",
      "radius = 40.0   cost = 0.1348314606741573   accuracy = 96.62921348314607\n",
      "radius = 50.0   cost = 0.1348314606741573   accuracy = 96.62921348314607\n",
      "radius = 60.0   cost = 0.1797752808988764   accuracy = 95.50561797752809\n",
      "radius = 70.0   cost = 0.1797752808988764   accuracy = 95.50561797752809\n",
      "radius = 80.0   cost = 0.7640449438202247   accuracy = 80.89887640449437\n",
      "radius = 90.0   cost = 0.7640449438202247   accuracy = 80.89887640449437\n",
      "radius = 100.0   cost = 0.7640449438202247   accuracy = 80.89887640449437\n",
      "radius = 120.0   cost = 0.7640449438202247   accuracy = 80.89887640449437\n",
      "radius = 150.0   cost = 0.7640449438202247   accuracy = 80.89887640449437\n",
      "radius = 200.0   cost = 0.7640449438202247   accuracy = 80.89887640449437\n"
     ]
    }
   ],
   "source": [
    "for radius in radius_values:\n",
    "    W = compute_weight(X_train, y_train, kmean_centers, radius)\n",
    "    y_hat = compute_output(X_test, W, kmean_centers, radius)\n",
    "    y_pred = np.sign(y_hat)\n",
    "    print(f\"radius = {radius}   cost = {compute_cost(y_pred, y_test)}   testing accuracy = {compute_accuracy(y_pred, y_test) * 100}\")"
   ]
  },
  {
   "attachments": {},
   "cell_type": "markdown",
   "metadata": {},
   "source": [
    "## Analysis"
   ]
  }
 ],
 "metadata": {
  "kernelspec": {
   "display_name": "Python 3",
   "language": "python",
   "name": "python3"
  },
  "language_info": {
   "codemirror_mode": {
    "name": "ipython",
    "version": 3
   },
   "file_extension": ".py",
   "mimetype": "text/x-python",
   "name": "python",
   "nbconvert_exporter": "python",
   "pygments_lexer": "ipython3",
   "version": "3.11.2"
  },
  "orig_nbformat": 4
 },
 "nbformat": 4,
 "nbformat_minor": 2
}
