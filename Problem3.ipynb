{
 "cells": [
  {
   "attachments": {},
   "cell_type": "markdown",
   "metadata": {},
   "source": [
    "# Problem 3: RBF network"
   ]
  },
  {
   "attachments": {},
   "cell_type": "markdown",
   "metadata": {},
   "source": [
    "Firstly, let's import the existing libraries"
   ]
  },
  {
   "cell_type": "code",
   "execution_count": 1,
   "metadata": {},
   "outputs": [],
   "source": [
    "import numpy as np\n",
    "import matplotlib.pyplot as plt\n",
    "from sklearn.cluster import KMeans\n",
    "from sklearn.model_selection import train_test_split\n",
    "from utils.data_parser import data_split_train_test, prepare_datasource\n",
    "from utils.utilities import compute_cost, compute_accuracy #bring these utilities helpers from A1\n"
   ]
  },
  {
   "attachments": {},
   "cell_type": "markdown",
   "metadata": {},
   "source": [
    "Then, split out the datasource into training and test data with the ratio of 8:2"
   ]
  },
  {
   "cell_type": "code",
   "execution_count": 2,
   "metadata": {},
   "outputs": [],
   "source": [
    "X, y = prepare_datasource()\n",
    "X_train, X_test, y_train, y_test = train_test_split(X,y, test_size=0.2)"
   ]
  },
  {
   "attachments": {},
   "cell_type": "markdown",
   "metadata": {},
   "source": [
    "## Part 1\n",
    "Carry out the design of RBF NN based on Gaussian kernel functions with constant spread function and using all\n",
    "the points in the training set as centers of the RB functions. Compare the performance results (mean square\n",
    "error) as you vary the spread parameter while keeping it the same for all kernel functions. Discuss your findings."
   ]
  },
  {
   "attachments": {},
   "cell_type": "markdown",
   "metadata": {},
   "source": [
    "The width parameter is preset as follow"
   ]
  },
  {
   "cell_type": "code",
   "execution_count": 10,
   "metadata": {},
   "outputs": [],
   "source": [
    "width_values = [0.05 ,0.1, 1., 2., 5., 10., 20., 30., 40., 50., 60., 70., 80., 90., 100., 150., 200.]"
   ]
  },
  {
   "attachments": {},
   "cell_type": "markdown",
   "metadata": {},
   "source": [
    "Firstly, let's compute the gaussian matrix $$g_j=gaussian(d_j)=e^{\\frac{-{d_j}^2}{2\\sigma^2}}$$ where \n",
    "$d_j = ||X-c_j||$ and $c_j$ is each element in centers"
   ]
  },
  {
   "cell_type": "code",
   "execution_count": 4,
   "metadata": {},
   "outputs": [],
   "source": [
    "def compute_gaussian_matrix(X, centers, width):\n",
    "    output = np.zeros((centers.shape[0], X.shape[0]))\n",
    "    for c_idx,cj in enumerate(centers):\n",
    "        for  input_idx,input in enumerate(X):\n",
    "            dj = np.linalg.norm(input-cj)\n",
    "            yj = np.exp(-dj**2/(2*(width**2)))\n",
    "            output[c_idx, input_idx] = yj\n",
    "    return output"
   ]
  },
  {
   "attachments": {},
   "cell_type": "markdown",
   "metadata": {},
   "source": [
    "Next, $g_j$ is fed into the linear regression model with proper weights to compute the output $$output=\\sum_{j=1}^n{w_jg_j}$$"
   ]
  },
  {
   "cell_type": "code",
   "execution_count": 5,
   "metadata": {},
   "outputs": [],
   "source": [
    "def compute_output(X, weights, centers, width):\n",
    "    G = compute_gaussian_matrix(X, centers, width)\n",
    "    output = np.matmul(weights, G)\n",
    "    return output"
   ]
  },
  {
   "attachments": {},
   "cell_type": "markdown",
   "metadata": {},
   "source": [
    "We now compute the weight matrix using gaussian values and the targets. Because the gaussian is a square matrix or invertable, weight is calculated as follow:\n",
    "\n",
    "$$W = G^{-1}Y$$"
   ]
  },
  {
   "cell_type": "code",
   "execution_count": 6,
   "metadata": {},
   "outputs": [],
   "source": [
    "def compute_weight(X, Y, centers, width):\n",
    "    G = compute_gaussian_matrix(X, centers, width)\n",
    "    W = np.matmul(np.linalg.pinv(G), Y)\n",
    "    return W"
   ]
  },
  {
   "attachments": {},
   "cell_type": "markdown",
   "metadata": {},
   "source": [
    "## Wrap everything up"
   ]
  },
  {
   "cell_type": "code",
   "execution_count": 11,
   "metadata": {},
   "outputs": [
    {
     "name": "stdout",
     "output_type": "stream",
     "text": [
      "cost = 0.1348314606741573\n",
      "accuracy = 96.62921348314607\n",
      "cost = 0.1348314606741573\n",
      "accuracy = 96.62921348314607\n",
      "cost = 0.2247191011235955\n",
      "accuracy = 94.3820224719101\n",
      "cost = 0.1348314606741573\n",
      "accuracy = 96.62921348314607\n",
      "cost = 0.0898876404494382\n",
      "accuracy = 97.75280898876404\n",
      "cost = 0.0898876404494382\n",
      "accuracy = 97.75280898876404\n",
      "cost = 0.0449438202247191\n",
      "accuracy = 98.87640449438202\n",
      "cost = 0.0449438202247191\n",
      "accuracy = 98.87640449438202\n",
      "cost = 0.1348314606741573\n",
      "accuracy = 96.62921348314607\n",
      "cost = 0.1348314606741573\n",
      "accuracy = 96.62921348314607\n",
      "cost = 0.0898876404494382\n",
      "accuracy = 97.75280898876404\n",
      "cost = 0.0898876404494382\n",
      "accuracy = 97.75280898876404\n",
      "cost = 0.3146067415730337\n",
      "accuracy = 92.13483146067416\n",
      "cost = 0.5393258426966292\n",
      "accuracy = 86.51685393258427\n",
      "cost = 0.4044943820224719\n",
      "accuracy = 89.8876404494382\n",
      "cost = 0.1797752808988764\n",
      "accuracy = 95.50561797752809\n",
      "cost = 0.4044943820224719\n",
      "accuracy = 89.8876404494382\n"
     ]
    }
   ],
   "source": [
    "for width in width_values:\n",
    "    W = compute_weight(X_train, y_train, X_train, width)\n",
    "    y_hat = compute_output(X_test, W, X_train, width)\n",
    "    y_pred = np.sign(y_hat)\n",
    "    print(f\"cost = {compute_cost(y_pred, y_test)}\")\n",
    "    print(f\"accuracy = {compute_accuracy(y_pred, y_test) * 100}\")"
   ]
  },
  {
   "attachments": {},
   "cell_type": "markdown",
   "metadata": {},
   "source": [
    "## Part 2\n",
    "Perform the design of the RBF NN, using this time only 150 centers, choosing the centers using two approaches:\n",
    "a) Randomly select the centers from the input data.\n",
    "b) Use K-Means algorithm to find the centers. You can use a Kmeans function defined in sklearn (https://scikitlearn.\n",
    "org/stable/modules/generated/sklearn.cluster.KMeans.html) or create your own."
   ]
  }
 ],
 "metadata": {
  "kernelspec": {
   "display_name": "Python 3",
   "language": "python",
   "name": "python3"
  },
  "language_info": {
   "codemirror_mode": {
    "name": "ipython",
    "version": 3
   },
   "file_extension": ".py",
   "mimetype": "text/x-python",
   "name": "python",
   "nbconvert_exporter": "python",
   "pygments_lexer": "ipython3",
   "version": "3.11.2"
  },
  "orig_nbformat": 4
 },
 "nbformat": 4,
 "nbformat_minor": 2
}
